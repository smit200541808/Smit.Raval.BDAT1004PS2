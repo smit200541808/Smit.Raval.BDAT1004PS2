{
 "cells": [
  {
   "cell_type": "markdown",
   "id": "f05dc137",
   "metadata": {},
   "source": [
    "## Problem Set 2 \n",
    "    \n",
    "\n",
    "### Question 1 : \n",
    "\n",
    "What value is displayed when the last expression (a) is evaluated? Explain your \n",
    "answer by indicating what happens in every executed statement.\n"
   ]
  },
  {
   "cell_type": "code",
   "execution_count": 1,
   "id": "b6bc3af7",
   "metadata": {},
   "outputs": [
    {
     "data": {
      "text/plain": [
       "6"
      ]
     },
     "execution_count": 1,
     "metadata": {},
     "output_type": "execute_result"
    }
   ],
   "source": [
    "a = 0\n",
    "def b():\n",
    " global a\n",
    " a = c(a)\n",
    "def c(a):\n",
    " return a + 2\n",
    "\n",
    "b()\n",
    "b()\n",
    "b()\n",
    "a\n"
   ]
  },
  {
   "cell_type": "markdown",
   "id": "909423d1",
   "metadata": {},
   "source": [
    "- Initially, we import the module, and the variable a is set to 0.\n",
    "- We call the function b(). Inside the function b(), we declare a as a global variable, and then we call the function c(a) with the current value of a which is 0. The function c(a) returns a + 2, so c(0) returns 2. The variable a is then updated to 2.\n",
    "- We call b() again. Inside the function b(), we again call c(a), but now a is 2. So, c(2) returns 4, and the variable a is updated to 4.\n",
    "- We call b() one more time. Inside the function b(), c(a) is called with the current value of a, which is 4. So, c(4) returns 6, and the variable a is updated to 6.\n",
    "- Now, when we evaluate a after these three function calls, a is equal to 6, so the value displayed when the last expression (a) is evaluated is 6.\n",
    "\n",
    "So, the value of a is 6, and this is because each time we call b(), it updates the global variable a by adding 2 to its current value."
   ]
  },
  {
   "cell_type": "markdown",
   "id": "83242289",
   "metadata": {},
   "source": [
    "### Question 2 :\n",
    "\n",
    "Function fileLength(), given to you, takes the name of a file as input and returns \n",
    "the length of the file:\n",
    "\n",
    "if the file cannot be found by the interpreter or if it cannot be read \n",
    "as a text file, an exception will be raised. Modify function fileLength() so that a \n",
    "friendly message is printed instead:\n",
    "\n"
   ]
  },
  {
   "cell_type": "code",
   "execution_count": 2,
   "id": "f80751db",
   "metadata": {},
   "outputs": [
    {
     "name": "stdout",
     "output_type": "stream",
     "text": [
      "File midterm.py not found.\n",
      "File idterm.py not found.\n"
     ]
    }
   ],
   "source": [
    "def fileLength(filename):\n",
    "    try:\n",
    "        infile = open(filename, 'r')\n",
    "        content = infile.read()\n",
    "        length = len(content)\n",
    "        infile.close()\n",
    "        return length\n",
    "    except FileNotFoundError: # for file not found \n",
    "        print(f\"File {filename} not found.\")\n",
    "    except Exception as e: # for rest of other error occured.\n",
    "        print(f\"An error occurred: {str(e)}\")\n",
    "\n",
    "#  Calling Function \n",
    "try:\n",
    "    length = fileLength('midterm.py')\n",
    "    if length is not None:\n",
    "        print(length)\n",
    "except FileNotFoundError:\n",
    "    pass\n",
    "\n",
    "try:\n",
    "    length = fileLength('idterm.py')\n",
    "    if length is not None:\n",
    "        print(length)\n",
    "except FileNotFoundError:\n",
    "    pass\n"
   ]
  },
  {
   "cell_type": "code",
   "execution_count": null,
   "id": "43435b9c",
   "metadata": {},
   "outputs": [],
   "source": [
    "class Marsupial:\n",
    "    def __init__(self):\n",
    "        self.pouch = []\n",
    "\n",
    "    def put_in_pouch(self, item):\n",
    "        self.pouch.append(item)\n",
    "\n",
    "    def pouch_contents(self):\n",
    "        return self.pouch\n",
    "\n",
    "\n",
    "class Kangaroo(Marsupial):\n",
    "    def __init__(self, x, y):\n",
    "        super().__init__()\n",
    "        self.x = x\n",
    "        self.y = y\n",
    "\n",
    "    def jump(self, dx, dy):\n",
    "        self.x += dx\n",
    "        self.y += dy\n",
    "\n",
    "    def __str__(self):\n",
    "        return f\"I am a Kangaroo located at coordinates ({self.x},{self.y})\"\n",
    "\n",
    "# Testing the classes\n",
    "m = Marsupial()\n",
    "m.put_in_pouch('doll')\n",
    "m.put_in_pouch('firetruck')\n",
    "m.put_in_pouch('kitten')\n",
    "print(m.pouch_contents())\n",
    "\n",
    "k = Kangaroo(0, 0)\n",
    "print(k)\n",
    "k.put_in_pouch('doll')\n",
    "k.put_in_pouch('firetruck')\n",
    "k.put_in_pouch('kitten')\n",
    "print(k.pouch_contents())\n",
    "\n",
    "k.jump(1, 0)\n",
    "k.jump(1, 0)\n",
    "k.jump(1, 0)\n",
    "print(k)\n"
   ]
  },
  {
   "cell_type": "markdown",
   "id": "d8ddd40d",
   "metadata": {},
   "source": [
    "### Question 3 \n",
    "\n"
   ]
  },
  {
   "cell_type": "code",
   "execution_count": 3,
   "id": "27603d7b",
   "metadata": {},
   "outputs": [
    {
     "name": "stdout",
     "output_type": "stream",
     "text": [
      "['doll', 'firetruck', 'kitten']\n",
      "I am a Kangaroo located at coordinates (0,0)\n",
      "['doll', 'firetruck', 'kitten']\n",
      "I am a Kangaroo located at coordinates (3,0)\n"
     ]
    }
   ],
   "source": [
    "class Marsupial:\n",
    "    def __init__(self):\n",
    "        self.pouch = []\n",
    "\n",
    "    def put_in_pouch(self, item):\n",
    "        self.pouch.append(item)\n",
    "\n",
    "    def pouch_contents(self):\n",
    "        return self.pouch\n",
    "\n",
    "\n",
    "class Kangaroo(Marsupial):\n",
    "    def __init__(self, x, y):\n",
    "        super().__init__()\n",
    "        self.x = x\n",
    "        self.y = y\n",
    "\n",
    "    def jump(self, dx, dy):\n",
    "        self.x += dx\n",
    "        self.y += dy\n",
    "\n",
    "    def __str__(self):\n",
    "        return f\"I am a Kangaroo located at coordinates ({self.x},{self.y})\"\n",
    "\n",
    "# Testing the classes\n",
    "m = Marsupial()\n",
    "m.put_in_pouch('doll')\n",
    "m.put_in_pouch('firetruck')\n",
    "m.put_in_pouch('kitten')\n",
    "print(m.pouch_contents())\n",
    "\n",
    "k = Kangaroo(0, 0)\n",
    "print(k)\n",
    "k.put_in_pouch('doll')\n",
    "k.put_in_pouch('firetruck')\n",
    "k.put_in_pouch('kitten')\n",
    "print(k.pouch_contents())\n",
    "\n",
    "k.jump(1, 0)\n",
    "k.jump(1, 0)\n",
    "k.jump(1, 0)\n",
    "print(k)\n"
   ]
  },
  {
   "cell_type": "markdown",
   "id": "248e85aa",
   "metadata": {},
   "source": [
    "### Question 4 "
   ]
  },
  {
   "cell_type": "code",
   "execution_count": 6,
   "id": "46eb72a7",
   "metadata": {},
   "outputs": [
    {
     "name": "stdout",
     "output_type": "stream",
     "text": [
      "1\n"
     ]
    }
   ],
   "source": [
    "def collatz(x):\n",
    "    if x == 1:\n",
    "        print(1)\n",
    "    else:\n",
    "        print(x)\n",
    "        if x % 2 == 0:\n",
    "            collatz(x // 2)\n",
    "        else:\n",
    "            collatz(3 * x + 1)\n",
    "\n",
    "collatz(1)"
   ]
  },
  {
   "cell_type": "code",
   "execution_count": 5,
   "id": "c7cb3bdb",
   "metadata": {},
   "outputs": [
    {
     "name": "stdout",
     "output_type": "stream",
     "text": [
      "10\n",
      "5\n",
      "16\n",
      "8\n",
      "4\n",
      "2\n",
      "1\n"
     ]
    }
   ],
   "source": [
    "collatz(10)"
   ]
  },
  {
   "cell_type": "markdown",
   "id": "d67767fa",
   "metadata": {},
   "source": [
    "### Question 5\n",
    "\n",
    "Write a recursive method binary() that takes a non-negative \n",
    "integer n and prints the binary representation of integer n"
   ]
  },
  {
   "cell_type": "code",
   "execution_count": 7,
   "id": "10a627f9",
   "metadata": {},
   "outputs": [
    {
     "name": "stdout",
     "output_type": "stream",
     "text": [
      "0\n",
      "1\n",
      "11\n",
      "1001\n"
     ]
    }
   ],
   "source": [
    "def binary(n):\n",
    "    if n > 1:\n",
    "        binary(n // 2)\n",
    "    print(n % 2, end=\"\")\n",
    "\n",
    "\n",
    "binary(0)\n",
    "print()  # Add a new line after printing the binary representation\n",
    "binary(1)\n",
    "print()\n",
    "binary(3)\n",
    "print()\n",
    "binary(9)\n",
    "print()\n"
   ]
  },
  {
   "cell_type": "markdown",
   "id": "b13fc544",
   "metadata": {},
   "source": [
    "### Question 6\n",
    "\n",
    "Implement a class named HeadingParser that can be used to parse an HTML \n",
    "document, and retrieve and print all the headings in the document. You should \n",
    "implement your class as a subclass of HTMLParser, defined in Standard Library \n",
    "module html.parser.\n",
    "\n",
    "When fed a string containing HTML code, your class should \n",
    "print the headings, one per line and in the order in which they appear in the \n",
    "document.\n",
    "\n",
    "Each heading should be indented as follows:\n",
    "   - an h1 heading should have \n",
    "   - indentation 0, and h2 heading should have indentation 1, etc. Test your \n",
    "   - implementation using w3c.html.\n"
   ]
  },
  {
   "cell_type": "code",
   "execution_count": 9,
   "id": "15da9b11",
   "metadata": {},
   "outputs": [
    {
     "name": "stdout",
     "output_type": "stream",
     "text": [
      " W3C Mission\n",
      "  Principles\n",
      "   Open Standards\n",
      "  Membership\n"
     ]
    }
   ],
   "source": [
    "from html.parser import HTMLParser\n",
    "\n",
    "class HeadingParser(HTMLParser):\n",
    "    def __init__(self):\n",
    "        super().__init__()\n",
    "        self.in_heading = False\n",
    "        self.heading_level = 0\n",
    "\n",
    "    def handle_starttag(self, tag, attrs):\n",
    "        if tag.startswith('h') and len(tag) == 2 and tag[1].isdigit():\n",
    "            self.in_heading = True\n",
    "            self.heading_level = int(tag[1])\n",
    "\n",
    "    def handle_endtag(self, tag):\n",
    "        if self.in_heading and tag.startswith('h') and len(tag) == 2 and tag[1].isdigit():\n",
    "            self.in_heading = False\n",
    "\n",
    "    def handle_data(self, data):\n",
    "        if self.in_heading:\n",
    "            indentation = \" \" * self.heading_level\n",
    "            print(f\"{indentation}{data}\")\n",
    "\n",
    "# Test your implementation using w3c.html\n",
    "infile = open(r\"C:\\Users\\raval\\OneDrive\\Documents\\BDAT\\data prog-Ethan\\problem set 2\\w3c.html\", 'r', encoding='utf-8')\n",
    "content = infile.read()\n",
    "infile.close()\n",
    "hp = HeadingParser()\n",
    "hp.feed(content)\n"
   ]
  },
  {
   "cell_type": "markdown",
   "id": "35d5985f",
   "metadata": {},
   "source": [
    "### Question 7\n",
    "\n",
    "Implement recursive function webdir() that takes as input: a URL (as a string) and \n",
    "non-negative integers depth and indent. \n",
    "\n",
    "Your function should visit every web \n",
    "page reachable from the starting URL web page in depth clicks or less, and print \n",
    "each web page's URL. \n",
    "\n",
    "As shown below, indentation, specified by indent, should \n",
    "be used to indicate the depth of a URL."
   ]
  },
  {
   "cell_type": "code",
   "execution_count": 17,
   "id": "f7979c9e",
   "metadata": {},
   "outputs": [
    {
     "name": "stdout",
     "output_type": "stream",
     "text": [
      "http://www.w3.org/Consortium/mission.html\n",
      "  https://github.com/w3c/w3c-website\n",
      "    https://github.com/\n",
      "    https://docs.github.com\n",
      "    https://skills.github.com/\n",
      "    https://github.blog\n",
      "    https://education.github.com\n",
      "    https://resources.github.com/devops/\n",
      "    https://resources.github.com/devops/fundamentals/devsecops/\n",
      "    https://resources.github.com/learn/pathways/\n",
      "    https://resources.github.com/\n",
      "    https://partner.github.com/\n",
      "    https://docs.github.com/en/search-github/github-code-search/understanding-github-code-search-syntax\n",
      "    https://docs.github.com/en/search-github/github-code-search/understanding-github-code-search-syntax\n",
      "    https://docs.github.com/articles/which-remote-url-should-i-use\n",
      "    https://cli.github.com\n",
      "    https://desktop.github.com\n",
      "    https://desktop.github.com/\n",
      "    https://desktop.github.com/\n",
      "    https://developer.apple.com/xcode/\n",
      "    https://github.com/w3c/w3c-website/pull/507\n",
      "    https://github.com/w3c/w3c-website/pull/507\n",
      "    https://github.com/vivienlacourba\n",
      "    https://github.com/w3c/w3c-website/pull/507\n",
      "    https://github.com/w3c/w3c-website/issues\n",
      "    https://w3c.studio24.net/\n",
      "    https://lists.w3.org/Archives/Public/public-website-redesign/\n",
      "    https://github.com/signup\n",
      "    https://www.w3.org/\n",
      "    https://github.com/w3c/w3c-website/issues/new?assignees=&labels=content&template=content.md&title=\n",
      "    https://github.com/w3c/w3c-website/issues/new?assignees=&labels=website&template=website.md&title=\n",
      "    https://github.com/w3c/w3c-website-frontend\n",
      "    https://design-system.w3.org/\n",
      "    https://github.com/w3c/w3c-website/issues/new?assignees=&labels=design+system&template=design_system.md&title=\n",
      "    https://github.com/w3c/w3c-website-templates-bundle/\n",
      "    https://craftcms.com/\n",
      "    https://github.com/w3c/w3c-website/issues/new?assignees=&labels=cms&template=cms.md&title=\n",
      "    https://github.com/vivienlacourba\n",
      "    https://github.com/vivienlacourba\n",
      "    https://github.com/simonrjones\n",
      "    https://github.com/simonrjones\n",
      "    https://github.com/koalie\n",
      "    https://github.com/koalie\n",
      "    https://github.com/gosko\n",
      "    https://github.com/gosko\n",
      "    https://github.com\n",
      "    https://docs.github.com/site-policy/github-terms/github-terms-of-service\n",
      "    https://docs.github.com/site-policy/privacy-policies/github-privacy-statement\n",
      "    https://github.com/security\n",
      "    https://www.githubstatus.com/\n",
      "    https://docs.github.com\n",
      "    https://support.github.com?tags=dotcom-footer\n",
      "    https://github.com/pricing\n",
      "    https://docs.github.com\n",
      "    https://services.github.com\n",
      "    https://github.blog\n",
      "    https://github.com/about\n",
      "  https://www.w3.org/ja/\n",
      "    https://github.com/w3c/w3c-website\n",
      "    https://www.w3.org/\n",
      "    https://www.w3.org/zh-hans/\n",
      "    https://www.w3.org/ja/\n",
      "    https://www.w3.org/ja/\n",
      "    https://status.w3.org/\n",
      "    https://w3c.social/@w3c\n",
      "    https://twitter.com/W3C\n",
      "    https://github.com/w3c/\n",
      "    https://www.w3.org/ja/\n",
      "    https://www.w3.org/policies/#disclaimers\n",
      "    https://www.w3.org/policies/#trademarks\n",
      "    https://www.w3.org/copyright/document-license/\n",
      "  https://www.w3.org/zh-hans/\n",
      "    https://github.com/w3c/w3c-website\n",
      "    https://www.w3.org/\n",
      "    https://www.w3.org/ja/\n",
      "    https://www.w3.org/zh-hans/\n",
      "    https://www.chinaw3c.org\n",
      "    https://www.chinaw3c.org\n",
      "    https://www.w3.org/ecosystems/e-commerce/\n",
      "    https://www.w3.org/ecosystems/media/\n",
      "    https://www.w3.org/ecosystems/publishing/\n",
      "    https://www.w3.org/zh-hans/\n",
      "    https://status.w3.org/\n",
      "    https://w3c.social/@w3c\n",
      "    https://twitter.com/W3C\n",
      "    https://github.com/w3c/\n",
      "    https://www.w3.org/zh-hans/\n",
      "    https://www.w3.org/policies/#disclaimers\n",
      "    https://www.w3.org/policies/#trademarks\n",
      "    https://www.w3.org/copyright/document-license/\n",
      "  https://www.w3.org/\n",
      "    https://github.com/w3c/w3c-website\n",
      "    https://www.w3.org/ja/\n",
      "    https://www.w3.org/zh-hans/\n",
      "    https://www.w3.org/\n",
      "    https://www.w3.org/standards/\n",
      "    https://www.w3.org/standards/\n",
      "    https://www.w3.org/standards/about/\n",
      "    https://www.w3.org/TR/\n",
      "    https://www.w3.org/standards/types/\n",
      "    https://www.w3.org/translations/\n",
      "    https://www.w3.org/standards/review/\n",
      "    https://www.w3.org/liaisons/\n",
      "    https://www.w3.org/get-involved/promote/\n",
      "    https://www.w3.org/groups/\n",
      "    https://www.w3.org/groups/\n",
      "    https://www.w3.org/groups/wg/\n",
      "    https://www.w3.org/groups/ig/\n",
      "    https://www.w3.org/groups/cg/\n",
      "    https://www.w3.org/groups/bg/\n",
      "    https://www.w3.org/groups/other/tag/\n",
      "    https://www.w3.org/invited-experts/\n",
      "    https://www.w3.org/about/positive-work-environment/\n",
      "    https://www.w3.org/get-involved/\n",
      "    https://www.w3.org/get-involved/\n",
      "    https://www.w3.org/ecosystems/\n",
      "    https://www.w3.org/membership/\n",
      "    https://www.w3.org/email/\n",
      "    https://www.w3.org/donate/\n",
      "    https://www.w3.org/sponsor/\n",
      "    https://www.w3.org/resources/\n",
      "    https://www.w3.org/resources/\n",
      "    https://www.w3.org/developers/\n",
      "    https://www.w3.org/developers/tools/\n",
      "    https://www.w3.org/WAI/fundamentals/\n",
      "    https://www.w3.org/International/i18n-drafts/nav/about\n",
      "    https://www.w3.org/translations/\n",
      "    https://www.w3.org/Consortium/cepc/\n",
      "    https://www.w3.org/news-events/\n",
      "    https://www.w3.org/news-events/\n",
      "    https://www.w3.org/news/\n",
      "    https://www.w3.org/blog/\n",
      "    https://www.w3.org/press-releases/\n",
      "    https://www.w3.org/about/press-media/\n",
      "    https://www.w3.org/events/\n",
      "    https://www.w3.org/news-events/w3c-tpac/\n",
      "    https://www.w3.org/Consortium/cepc/\n",
      "    https://www.w3.org/about/\n",
      "    https://www.w3.org/about/\n"
     ]
    },
    {
     "ename": "KeyboardInterrupt",
     "evalue": "",
     "output_type": "error",
     "traceback": [
      "\u001b[1;31m---------------------------------------------------------------------------\u001b[0m",
      "\u001b[1;31mKeyboardInterrupt\u001b[0m                         Traceback (most recent call last)",
      "Cell \u001b[1;32mIn[17], line 32\u001b[0m\n\u001b[0;32m     29\u001b[0m                     webdir(link, depth \u001b[38;5;241m-\u001b[39m \u001b[38;5;241m1\u001b[39m, indent \u001b[38;5;241m+\u001b[39m \u001b[38;5;241m2\u001b[39m)\n\u001b[0;32m     31\u001b[0m \u001b[38;5;66;03m# Test your implementation\u001b[39;00m\n\u001b[1;32m---> 32\u001b[0m webdir(\u001b[38;5;124m'\u001b[39m\u001b[38;5;124mhttp://www.w3.org/Consortium/mission.html\u001b[39m\u001b[38;5;124m'\u001b[39m, \u001b[38;5;241m2\u001b[39m, \u001b[38;5;241m0\u001b[39m)\n",
      "Cell \u001b[1;32mIn[17], line 29\u001b[0m, in \u001b[0;36mwebdir\u001b[1;34m(url, depth, indent)\u001b[0m\n\u001b[0;32m     27\u001b[0m \u001b[38;5;28;01mfor\u001b[39;00m link \u001b[38;5;129;01min\u001b[39;00m parser\u001b[38;5;241m.\u001b[39mlinks:\n\u001b[0;32m     28\u001b[0m     \u001b[38;5;28;01mif\u001b[39;00m link\u001b[38;5;241m.\u001b[39mstartswith(\u001b[38;5;124m'\u001b[39m\u001b[38;5;124mhttp\u001b[39m\u001b[38;5;124m'\u001b[39m):\n\u001b[1;32m---> 29\u001b[0m         webdir(link, depth \u001b[38;5;241m-\u001b[39m \u001b[38;5;241m1\u001b[39m, indent \u001b[38;5;241m+\u001b[39m \u001b[38;5;241m2\u001b[39m)\n",
      "Cell \u001b[1;32mIn[17], line 29\u001b[0m, in \u001b[0;36mwebdir\u001b[1;34m(url, depth, indent)\u001b[0m\n\u001b[0;32m     27\u001b[0m \u001b[38;5;28;01mfor\u001b[39;00m link \u001b[38;5;129;01min\u001b[39;00m parser\u001b[38;5;241m.\u001b[39mlinks:\n\u001b[0;32m     28\u001b[0m     \u001b[38;5;28;01mif\u001b[39;00m link\u001b[38;5;241m.\u001b[39mstartswith(\u001b[38;5;124m'\u001b[39m\u001b[38;5;124mhttp\u001b[39m\u001b[38;5;124m'\u001b[39m):\n\u001b[1;32m---> 29\u001b[0m         webdir(link, depth \u001b[38;5;241m-\u001b[39m \u001b[38;5;241m1\u001b[39m, indent \u001b[38;5;241m+\u001b[39m \u001b[38;5;241m2\u001b[39m)\n",
      "Cell \u001b[1;32mIn[17], line 19\u001b[0m, in \u001b[0;36mwebdir\u001b[1;34m(url, depth, indent)\u001b[0m\n\u001b[0;32m     16\u001b[0m \u001b[38;5;28;01mif\u001b[39;00m depth \u001b[38;5;241m<\u001b[39m \u001b[38;5;241m0\u001b[39m:\n\u001b[0;32m     17\u001b[0m     \u001b[38;5;28;01mreturn\u001b[39;00m\n\u001b[1;32m---> 19\u001b[0m response \u001b[38;5;241m=\u001b[39m requests\u001b[38;5;241m.\u001b[39mget(url)\n\u001b[0;32m     20\u001b[0m \u001b[38;5;28;01mif\u001b[39;00m response\u001b[38;5;241m.\u001b[39mstatus_code \u001b[38;5;241m==\u001b[39m \u001b[38;5;241m200\u001b[39m:\n\u001b[0;32m     21\u001b[0m     parser \u001b[38;5;241m=\u001b[39m LinkParser()\n",
      "File \u001b[1;32mC:\\ProgramData\\anaconda3\\Lib\\site-packages\\requests\\api.py:73\u001b[0m, in \u001b[0;36mget\u001b[1;34m(url, params, **kwargs)\u001b[0m\n\u001b[0;32m     62\u001b[0m \u001b[38;5;28;01mdef\u001b[39;00m \u001b[38;5;21mget\u001b[39m(url, params\u001b[38;5;241m=\u001b[39m\u001b[38;5;28;01mNone\u001b[39;00m, \u001b[38;5;241m*\u001b[39m\u001b[38;5;241m*\u001b[39mkwargs):\n\u001b[0;32m     63\u001b[0m \u001b[38;5;250m    \u001b[39m\u001b[38;5;124mr\u001b[39m\u001b[38;5;124;03m\"\"\"Sends a GET request.\u001b[39;00m\n\u001b[0;32m     64\u001b[0m \n\u001b[0;32m     65\u001b[0m \u001b[38;5;124;03m    :param url: URL for the new :class:`Request` object.\u001b[39;00m\n\u001b[1;32m   (...)\u001b[0m\n\u001b[0;32m     70\u001b[0m \u001b[38;5;124;03m    :rtype: requests.Response\u001b[39;00m\n\u001b[0;32m     71\u001b[0m \u001b[38;5;124;03m    \"\"\"\u001b[39;00m\n\u001b[1;32m---> 73\u001b[0m     \u001b[38;5;28;01mreturn\u001b[39;00m request(\u001b[38;5;124m\"\u001b[39m\u001b[38;5;124mget\u001b[39m\u001b[38;5;124m\"\u001b[39m, url, params\u001b[38;5;241m=\u001b[39mparams, \u001b[38;5;241m*\u001b[39m\u001b[38;5;241m*\u001b[39mkwargs)\n",
      "File \u001b[1;32mC:\\ProgramData\\anaconda3\\Lib\\site-packages\\requests\\api.py:59\u001b[0m, in \u001b[0;36mrequest\u001b[1;34m(method, url, **kwargs)\u001b[0m\n\u001b[0;32m     55\u001b[0m \u001b[38;5;66;03m# By using the 'with' statement we are sure the session is closed, thus we\u001b[39;00m\n\u001b[0;32m     56\u001b[0m \u001b[38;5;66;03m# avoid leaving sockets open which can trigger a ResourceWarning in some\u001b[39;00m\n\u001b[0;32m     57\u001b[0m \u001b[38;5;66;03m# cases, and look like a memory leak in others.\u001b[39;00m\n\u001b[0;32m     58\u001b[0m \u001b[38;5;28;01mwith\u001b[39;00m sessions\u001b[38;5;241m.\u001b[39mSession() \u001b[38;5;28;01mas\u001b[39;00m session:\n\u001b[1;32m---> 59\u001b[0m     \u001b[38;5;28;01mreturn\u001b[39;00m session\u001b[38;5;241m.\u001b[39mrequest(method\u001b[38;5;241m=\u001b[39mmethod, url\u001b[38;5;241m=\u001b[39murl, \u001b[38;5;241m*\u001b[39m\u001b[38;5;241m*\u001b[39mkwargs)\n",
      "File \u001b[1;32mC:\\ProgramData\\anaconda3\\Lib\\site-packages\\requests\\sessions.py:589\u001b[0m, in \u001b[0;36mSession.request\u001b[1;34m(self, method, url, params, data, headers, cookies, files, auth, timeout, allow_redirects, proxies, hooks, stream, verify, cert, json)\u001b[0m\n\u001b[0;32m    584\u001b[0m send_kwargs \u001b[38;5;241m=\u001b[39m {\n\u001b[0;32m    585\u001b[0m     \u001b[38;5;124m\"\u001b[39m\u001b[38;5;124mtimeout\u001b[39m\u001b[38;5;124m\"\u001b[39m: timeout,\n\u001b[0;32m    586\u001b[0m     \u001b[38;5;124m\"\u001b[39m\u001b[38;5;124mallow_redirects\u001b[39m\u001b[38;5;124m\"\u001b[39m: allow_redirects,\n\u001b[0;32m    587\u001b[0m }\n\u001b[0;32m    588\u001b[0m send_kwargs\u001b[38;5;241m.\u001b[39mupdate(settings)\n\u001b[1;32m--> 589\u001b[0m resp \u001b[38;5;241m=\u001b[39m \u001b[38;5;28mself\u001b[39m\u001b[38;5;241m.\u001b[39msend(prep, \u001b[38;5;241m*\u001b[39m\u001b[38;5;241m*\u001b[39msend_kwargs)\n\u001b[0;32m    591\u001b[0m \u001b[38;5;28;01mreturn\u001b[39;00m resp\n",
      "File \u001b[1;32mC:\\ProgramData\\anaconda3\\Lib\\site-packages\\requests\\sessions.py:703\u001b[0m, in \u001b[0;36mSession.send\u001b[1;34m(self, request, **kwargs)\u001b[0m\n\u001b[0;32m    700\u001b[0m start \u001b[38;5;241m=\u001b[39m preferred_clock()\n\u001b[0;32m    702\u001b[0m \u001b[38;5;66;03m# Send the request\u001b[39;00m\n\u001b[1;32m--> 703\u001b[0m r \u001b[38;5;241m=\u001b[39m adapter\u001b[38;5;241m.\u001b[39msend(request, \u001b[38;5;241m*\u001b[39m\u001b[38;5;241m*\u001b[39mkwargs)\n\u001b[0;32m    705\u001b[0m \u001b[38;5;66;03m# Total elapsed time of the request (approximately)\u001b[39;00m\n\u001b[0;32m    706\u001b[0m elapsed \u001b[38;5;241m=\u001b[39m preferred_clock() \u001b[38;5;241m-\u001b[39m start\n",
      "File \u001b[1;32mC:\\ProgramData\\anaconda3\\Lib\\site-packages\\requests\\adapters.py:486\u001b[0m, in \u001b[0;36mHTTPAdapter.send\u001b[1;34m(self, request, stream, timeout, verify, cert, proxies)\u001b[0m\n\u001b[0;32m    483\u001b[0m     timeout \u001b[38;5;241m=\u001b[39m TimeoutSauce(connect\u001b[38;5;241m=\u001b[39mtimeout, read\u001b[38;5;241m=\u001b[39mtimeout)\n\u001b[0;32m    485\u001b[0m \u001b[38;5;28;01mtry\u001b[39;00m:\n\u001b[1;32m--> 486\u001b[0m     resp \u001b[38;5;241m=\u001b[39m conn\u001b[38;5;241m.\u001b[39murlopen(\n\u001b[0;32m    487\u001b[0m         method\u001b[38;5;241m=\u001b[39mrequest\u001b[38;5;241m.\u001b[39mmethod,\n\u001b[0;32m    488\u001b[0m         url\u001b[38;5;241m=\u001b[39murl,\n\u001b[0;32m    489\u001b[0m         body\u001b[38;5;241m=\u001b[39mrequest\u001b[38;5;241m.\u001b[39mbody,\n\u001b[0;32m    490\u001b[0m         headers\u001b[38;5;241m=\u001b[39mrequest\u001b[38;5;241m.\u001b[39mheaders,\n\u001b[0;32m    491\u001b[0m         redirect\u001b[38;5;241m=\u001b[39m\u001b[38;5;28;01mFalse\u001b[39;00m,\n\u001b[0;32m    492\u001b[0m         assert_same_host\u001b[38;5;241m=\u001b[39m\u001b[38;5;28;01mFalse\u001b[39;00m,\n\u001b[0;32m    493\u001b[0m         preload_content\u001b[38;5;241m=\u001b[39m\u001b[38;5;28;01mFalse\u001b[39;00m,\n\u001b[0;32m    494\u001b[0m         decode_content\u001b[38;5;241m=\u001b[39m\u001b[38;5;28;01mFalse\u001b[39;00m,\n\u001b[0;32m    495\u001b[0m         retries\u001b[38;5;241m=\u001b[39m\u001b[38;5;28mself\u001b[39m\u001b[38;5;241m.\u001b[39mmax_retries,\n\u001b[0;32m    496\u001b[0m         timeout\u001b[38;5;241m=\u001b[39mtimeout,\n\u001b[0;32m    497\u001b[0m         chunked\u001b[38;5;241m=\u001b[39mchunked,\n\u001b[0;32m    498\u001b[0m     )\n\u001b[0;32m    500\u001b[0m \u001b[38;5;28;01mexcept\u001b[39;00m (ProtocolError, \u001b[38;5;167;01mOSError\u001b[39;00m) \u001b[38;5;28;01mas\u001b[39;00m err:\n\u001b[0;32m    501\u001b[0m     \u001b[38;5;28;01mraise\u001b[39;00m \u001b[38;5;167;01mConnectionError\u001b[39;00m(err, request\u001b[38;5;241m=\u001b[39mrequest)\n",
      "File \u001b[1;32mC:\\ProgramData\\anaconda3\\Lib\\site-packages\\urllib3\\connectionpool.py:714\u001b[0m, in \u001b[0;36mHTTPConnectionPool.urlopen\u001b[1;34m(self, method, url, body, headers, retries, redirect, assert_same_host, timeout, pool_timeout, release_conn, chunked, body_pos, **response_kw)\u001b[0m\n\u001b[0;32m    711\u001b[0m     \u001b[38;5;28mself\u001b[39m\u001b[38;5;241m.\u001b[39m_prepare_proxy(conn)\n\u001b[0;32m    713\u001b[0m \u001b[38;5;66;03m# Make the request on the httplib connection object.\u001b[39;00m\n\u001b[1;32m--> 714\u001b[0m httplib_response \u001b[38;5;241m=\u001b[39m \u001b[38;5;28mself\u001b[39m\u001b[38;5;241m.\u001b[39m_make_request(\n\u001b[0;32m    715\u001b[0m     conn,\n\u001b[0;32m    716\u001b[0m     method,\n\u001b[0;32m    717\u001b[0m     url,\n\u001b[0;32m    718\u001b[0m     timeout\u001b[38;5;241m=\u001b[39mtimeout_obj,\n\u001b[0;32m    719\u001b[0m     body\u001b[38;5;241m=\u001b[39mbody,\n\u001b[0;32m    720\u001b[0m     headers\u001b[38;5;241m=\u001b[39mheaders,\n\u001b[0;32m    721\u001b[0m     chunked\u001b[38;5;241m=\u001b[39mchunked,\n\u001b[0;32m    722\u001b[0m )\n\u001b[0;32m    724\u001b[0m \u001b[38;5;66;03m# If we're going to release the connection in ``finally:``, then\u001b[39;00m\n\u001b[0;32m    725\u001b[0m \u001b[38;5;66;03m# the response doesn't need to know about the connection. Otherwise\u001b[39;00m\n\u001b[0;32m    726\u001b[0m \u001b[38;5;66;03m# it will also try to release it and we'll have a double-release\u001b[39;00m\n\u001b[0;32m    727\u001b[0m \u001b[38;5;66;03m# mess.\u001b[39;00m\n\u001b[0;32m    728\u001b[0m response_conn \u001b[38;5;241m=\u001b[39m conn \u001b[38;5;28;01mif\u001b[39;00m \u001b[38;5;129;01mnot\u001b[39;00m release_conn \u001b[38;5;28;01melse\u001b[39;00m \u001b[38;5;28;01mNone\u001b[39;00m\n",
      "File \u001b[1;32mC:\\ProgramData\\anaconda3\\Lib\\site-packages\\urllib3\\connectionpool.py:466\u001b[0m, in \u001b[0;36mHTTPConnectionPool._make_request\u001b[1;34m(self, conn, method, url, timeout, chunked, **httplib_request_kw)\u001b[0m\n\u001b[0;32m    461\u001b[0m             httplib_response \u001b[38;5;241m=\u001b[39m conn\u001b[38;5;241m.\u001b[39mgetresponse()\n\u001b[0;32m    462\u001b[0m         \u001b[38;5;28;01mexcept\u001b[39;00m \u001b[38;5;167;01mBaseException\u001b[39;00m \u001b[38;5;28;01mas\u001b[39;00m e:\n\u001b[0;32m    463\u001b[0m             \u001b[38;5;66;03m# Remove the TypeError from the exception chain in\u001b[39;00m\n\u001b[0;32m    464\u001b[0m             \u001b[38;5;66;03m# Python 3 (including for exceptions like SystemExit).\u001b[39;00m\n\u001b[0;32m    465\u001b[0m             \u001b[38;5;66;03m# Otherwise it looks like a bug in the code.\u001b[39;00m\n\u001b[1;32m--> 466\u001b[0m             six\u001b[38;5;241m.\u001b[39mraise_from(e, \u001b[38;5;28;01mNone\u001b[39;00m)\n\u001b[0;32m    467\u001b[0m \u001b[38;5;28;01mexcept\u001b[39;00m (SocketTimeout, BaseSSLError, SocketError) \u001b[38;5;28;01mas\u001b[39;00m e:\n\u001b[0;32m    468\u001b[0m     \u001b[38;5;28mself\u001b[39m\u001b[38;5;241m.\u001b[39m_raise_timeout(err\u001b[38;5;241m=\u001b[39me, url\u001b[38;5;241m=\u001b[39murl, timeout_value\u001b[38;5;241m=\u001b[39mread_timeout)\n",
      "File \u001b[1;32m<string>:3\u001b[0m, in \u001b[0;36mraise_from\u001b[1;34m(value, from_value)\u001b[0m\n",
      "File \u001b[1;32mC:\\ProgramData\\anaconda3\\Lib\\site-packages\\urllib3\\connectionpool.py:461\u001b[0m, in \u001b[0;36mHTTPConnectionPool._make_request\u001b[1;34m(self, conn, method, url, timeout, chunked, **httplib_request_kw)\u001b[0m\n\u001b[0;32m    458\u001b[0m \u001b[38;5;28;01mexcept\u001b[39;00m \u001b[38;5;167;01mTypeError\u001b[39;00m:\n\u001b[0;32m    459\u001b[0m     \u001b[38;5;66;03m# Python 3\u001b[39;00m\n\u001b[0;32m    460\u001b[0m     \u001b[38;5;28;01mtry\u001b[39;00m:\n\u001b[1;32m--> 461\u001b[0m         httplib_response \u001b[38;5;241m=\u001b[39m conn\u001b[38;5;241m.\u001b[39mgetresponse()\n\u001b[0;32m    462\u001b[0m     \u001b[38;5;28;01mexcept\u001b[39;00m \u001b[38;5;167;01mBaseException\u001b[39;00m \u001b[38;5;28;01mas\u001b[39;00m e:\n\u001b[0;32m    463\u001b[0m         \u001b[38;5;66;03m# Remove the TypeError from the exception chain in\u001b[39;00m\n\u001b[0;32m    464\u001b[0m         \u001b[38;5;66;03m# Python 3 (including for exceptions like SystemExit).\u001b[39;00m\n\u001b[0;32m    465\u001b[0m         \u001b[38;5;66;03m# Otherwise it looks like a bug in the code.\u001b[39;00m\n\u001b[0;32m    466\u001b[0m         six\u001b[38;5;241m.\u001b[39mraise_from(e, \u001b[38;5;28;01mNone\u001b[39;00m)\n",
      "File \u001b[1;32mC:\\ProgramData\\anaconda3\\Lib\\http\\client.py:1378\u001b[0m, in \u001b[0;36mHTTPConnection.getresponse\u001b[1;34m(self)\u001b[0m\n\u001b[0;32m   1376\u001b[0m \u001b[38;5;28;01mtry\u001b[39;00m:\n\u001b[0;32m   1377\u001b[0m     \u001b[38;5;28;01mtry\u001b[39;00m:\n\u001b[1;32m-> 1378\u001b[0m         response\u001b[38;5;241m.\u001b[39mbegin()\n\u001b[0;32m   1379\u001b[0m     \u001b[38;5;28;01mexcept\u001b[39;00m \u001b[38;5;167;01mConnectionError\u001b[39;00m:\n\u001b[0;32m   1380\u001b[0m         \u001b[38;5;28mself\u001b[39m\u001b[38;5;241m.\u001b[39mclose()\n",
      "File \u001b[1;32mC:\\ProgramData\\anaconda3\\Lib\\http\\client.py:318\u001b[0m, in \u001b[0;36mHTTPResponse.begin\u001b[1;34m(self)\u001b[0m\n\u001b[0;32m    316\u001b[0m \u001b[38;5;66;03m# read until we get a non-100 response\u001b[39;00m\n\u001b[0;32m    317\u001b[0m \u001b[38;5;28;01mwhile\u001b[39;00m \u001b[38;5;28;01mTrue\u001b[39;00m:\n\u001b[1;32m--> 318\u001b[0m     version, status, reason \u001b[38;5;241m=\u001b[39m \u001b[38;5;28mself\u001b[39m\u001b[38;5;241m.\u001b[39m_read_status()\n\u001b[0;32m    319\u001b[0m     \u001b[38;5;28;01mif\u001b[39;00m status \u001b[38;5;241m!=\u001b[39m CONTINUE:\n\u001b[0;32m    320\u001b[0m         \u001b[38;5;28;01mbreak\u001b[39;00m\n",
      "File \u001b[1;32mC:\\ProgramData\\anaconda3\\Lib\\http\\client.py:279\u001b[0m, in \u001b[0;36mHTTPResponse._read_status\u001b[1;34m(self)\u001b[0m\n\u001b[0;32m    278\u001b[0m \u001b[38;5;28;01mdef\u001b[39;00m \u001b[38;5;21m_read_status\u001b[39m(\u001b[38;5;28mself\u001b[39m):\n\u001b[1;32m--> 279\u001b[0m     line \u001b[38;5;241m=\u001b[39m \u001b[38;5;28mstr\u001b[39m(\u001b[38;5;28mself\u001b[39m\u001b[38;5;241m.\u001b[39mfp\u001b[38;5;241m.\u001b[39mreadline(_MAXLINE \u001b[38;5;241m+\u001b[39m \u001b[38;5;241m1\u001b[39m), \u001b[38;5;124m\"\u001b[39m\u001b[38;5;124miso-8859-1\u001b[39m\u001b[38;5;124m\"\u001b[39m)\n\u001b[0;32m    280\u001b[0m     \u001b[38;5;28;01mif\u001b[39;00m \u001b[38;5;28mlen\u001b[39m(line) \u001b[38;5;241m>\u001b[39m _MAXLINE:\n\u001b[0;32m    281\u001b[0m         \u001b[38;5;28;01mraise\u001b[39;00m LineTooLong(\u001b[38;5;124m\"\u001b[39m\u001b[38;5;124mstatus line\u001b[39m\u001b[38;5;124m\"\u001b[39m)\n",
      "File \u001b[1;32mC:\\ProgramData\\anaconda3\\Lib\\socket.py:706\u001b[0m, in \u001b[0;36mSocketIO.readinto\u001b[1;34m(self, b)\u001b[0m\n\u001b[0;32m    704\u001b[0m \u001b[38;5;28;01mwhile\u001b[39;00m \u001b[38;5;28;01mTrue\u001b[39;00m:\n\u001b[0;32m    705\u001b[0m     \u001b[38;5;28;01mtry\u001b[39;00m:\n\u001b[1;32m--> 706\u001b[0m         \u001b[38;5;28;01mreturn\u001b[39;00m \u001b[38;5;28mself\u001b[39m\u001b[38;5;241m.\u001b[39m_sock\u001b[38;5;241m.\u001b[39mrecv_into(b)\n\u001b[0;32m    707\u001b[0m     \u001b[38;5;28;01mexcept\u001b[39;00m timeout:\n\u001b[0;32m    708\u001b[0m         \u001b[38;5;28mself\u001b[39m\u001b[38;5;241m.\u001b[39m_timeout_occurred \u001b[38;5;241m=\u001b[39m \u001b[38;5;28;01mTrue\u001b[39;00m\n",
      "File \u001b[1;32mC:\\ProgramData\\anaconda3\\Lib\\ssl.py:1278\u001b[0m, in \u001b[0;36mSSLSocket.recv_into\u001b[1;34m(self, buffer, nbytes, flags)\u001b[0m\n\u001b[0;32m   1274\u001b[0m     \u001b[38;5;28;01mif\u001b[39;00m flags \u001b[38;5;241m!=\u001b[39m \u001b[38;5;241m0\u001b[39m:\n\u001b[0;32m   1275\u001b[0m         \u001b[38;5;28;01mraise\u001b[39;00m \u001b[38;5;167;01mValueError\u001b[39;00m(\n\u001b[0;32m   1276\u001b[0m           \u001b[38;5;124m\"\u001b[39m\u001b[38;5;124mnon-zero flags not allowed in calls to recv_into() on \u001b[39m\u001b[38;5;132;01m%s\u001b[39;00m\u001b[38;5;124m\"\u001b[39m \u001b[38;5;241m%\u001b[39m\n\u001b[0;32m   1277\u001b[0m           \u001b[38;5;28mself\u001b[39m\u001b[38;5;241m.\u001b[39m\u001b[38;5;18m__class__\u001b[39m)\n\u001b[1;32m-> 1278\u001b[0m     \u001b[38;5;28;01mreturn\u001b[39;00m \u001b[38;5;28mself\u001b[39m\u001b[38;5;241m.\u001b[39mread(nbytes, buffer)\n\u001b[0;32m   1279\u001b[0m \u001b[38;5;28;01melse\u001b[39;00m:\n\u001b[0;32m   1280\u001b[0m     \u001b[38;5;28;01mreturn\u001b[39;00m \u001b[38;5;28msuper\u001b[39m()\u001b[38;5;241m.\u001b[39mrecv_into(buffer, nbytes, flags)\n",
      "File \u001b[1;32mC:\\ProgramData\\anaconda3\\Lib\\ssl.py:1134\u001b[0m, in \u001b[0;36mSSLSocket.read\u001b[1;34m(self, len, buffer)\u001b[0m\n\u001b[0;32m   1132\u001b[0m \u001b[38;5;28;01mtry\u001b[39;00m:\n\u001b[0;32m   1133\u001b[0m     \u001b[38;5;28;01mif\u001b[39;00m buffer \u001b[38;5;129;01mis\u001b[39;00m \u001b[38;5;129;01mnot\u001b[39;00m \u001b[38;5;28;01mNone\u001b[39;00m:\n\u001b[1;32m-> 1134\u001b[0m         \u001b[38;5;28;01mreturn\u001b[39;00m \u001b[38;5;28mself\u001b[39m\u001b[38;5;241m.\u001b[39m_sslobj\u001b[38;5;241m.\u001b[39mread(\u001b[38;5;28mlen\u001b[39m, buffer)\n\u001b[0;32m   1135\u001b[0m     \u001b[38;5;28;01melse\u001b[39;00m:\n\u001b[0;32m   1136\u001b[0m         \u001b[38;5;28;01mreturn\u001b[39;00m \u001b[38;5;28mself\u001b[39m\u001b[38;5;241m.\u001b[39m_sslobj\u001b[38;5;241m.\u001b[39mread(\u001b[38;5;28mlen\u001b[39m)\n",
      "\u001b[1;31mKeyboardInterrupt\u001b[0m: "
     ]
    }
   ],
   "source": [
    "from html.parser import HTMLParser\n",
    "import requests\n",
    "\n",
    "class LinkParser(HTMLParser):\n",
    "    def __init__(self):\n",
    "        super().__init__()\n",
    "        self.links = []\n",
    "\n",
    "    def handle_starttag(self, tag, attrs):\n",
    "        if tag == \"a\":\n",
    "            for attr, value in attrs:\n",
    "                if attr == \"href\":\n",
    "                    self.links.append(value)\n",
    "\n",
    "def webdir(url, depth, indent):\n",
    "    if depth < 0:\n",
    "        return\n",
    "\n",
    "    response = requests.get(url)\n",
    "    if response.status_code == 200:\n",
    "        parser = LinkParser()\n",
    "        parser.feed(response.text)\n",
    "\n",
    "        print(\" \" * indent + url)\n",
    "\n",
    "        if depth > 0:\n",
    "            for link in parser.links:\n",
    "                if link.startswith('http'):\n",
    "                    webdir(link, depth - 1, indent + 2)\n",
    "\n",
    "# Test your implementation\n",
    "webdir('http://www.w3.org/Consortium/mission.html', 2, 0)\n"
   ]
  },
  {
   "cell_type": "markdown",
   "id": "ceaf5dd9",
   "metadata": {},
   "source": [
    "### Question 8\n",
    "\n",
    "Write SQL queries on the below database table : \n",
    "\n",
    "| City    | Country        | Season | Temperature (C) | Rainfall (mm) |\n",
    "|---------|----------------|--------|------------------|---------------|\n",
    "| Mumbai  | India          | Winter | 24.8             | 5.9           |\n",
    "| Mumbai  | India          | Spring | 28.4             | 16.2          |\n",
    "| Mumbai  | India          | Summer | 27.9             | 1549.4        |\n",
    "| Mumbai  | India          | Fall   | 27.6             | 346.0         |\n",
    "| London  | United Kingdom | Winter | 4.2              | 207.7         |\n",
    "| London  | United Kingdom | Spring | 8.3              | 169.6         |\n",
    "| London  | United Kingdom | Summer | 15.7             | 157.0         |\n",
    "| London  | United Kingdom | Fall   | 10.4             | 218.5         |\n",
    "| Cairo   | Egypt          | Winter | 13.6             | 16.5          |\n",
    "| Cairo   | Egypt          | Spring | 20.7             | 6.5           |\n",
    "| Cairo   | Egypt          | Summer | 27.7             | 0.1           |\n",
    "| Cairo   | Egypt          | Fall   | 22.2             | 4.5           |\n",
    "\n"
   ]
  },
  {
   "cell_type": "markdown",
   "id": "2692d1ab",
   "metadata": {},
   "source": [
    " All the temperature data"
   ]
  },
  {
   "cell_type": "code",
   "execution_count": null,
   "id": "737cc447",
   "metadata": {},
   "outputs": [],
   "source": [
    "SELECT Temperature FROM TableData;"
   ]
  },
  {
   "cell_type": "markdown",
   "id": "eb6de9d4",
   "metadata": {},
   "source": [
    "All the cities, but without repetition."
   ]
  },
  {
   "cell_type": "code",
   "execution_count": null,
   "id": "5d78a010",
   "metadata": {},
   "outputs": [],
   "source": [
    "SELECT DISTINCT City FROM TableData;"
   ]
  },
  {
   "cell_type": "markdown",
   "id": "1ebe1779",
   "metadata": {},
   "source": [
    " All the records for India."
   ]
  },
  {
   "cell_type": "code",
   "execution_count": null,
   "id": "ae0826f5",
   "metadata": {},
   "outputs": [],
   "source": [
    "SELECT * FROM TableData WHERE Country = 'India';"
   ]
  },
  {
   "cell_type": "markdown",
   "id": "d9ca4d2f",
   "metadata": {},
   "source": [
    " All the Fall records."
   ]
  },
  {
   "cell_type": "code",
   "execution_count": null,
   "id": "850ccd1b",
   "metadata": {},
   "outputs": [],
   "source": [
    "SELECT * FROM TableData WHERE Season = 'Fall';"
   ]
  },
  {
   "cell_type": "markdown",
   "id": "6969a5d5",
   "metadata": {},
   "source": [
    "The city, country, and season for which the average rainfall is between 200 \n",
    "and 400 millimeters."
   ]
  },
  {
   "cell_type": "code",
   "execution_count": null,
   "id": "03be1734",
   "metadata": {},
   "outputs": [],
   "source": [
    "SELECT City, Country, Season\n",
    "FROM TableData\n",
    "GROUP BY City, Country, Season\n",
    "HAVING AVG(Rainfall) BETWEEN 200 AND 400;"
   ]
  },
  {
   "cell_type": "markdown",
   "id": "beeb2cd7",
   "metadata": {},
   "source": [
    " The city and country for which the average Fall temperature is above 20 \n",
    "degrees, in increasing temperature order."
   ]
  },
  {
   "cell_type": "code",
   "execution_count": null,
   "id": "c3e8c239",
   "metadata": {},
   "outputs": [],
   "source": [
    "SELECT City, Country\n",
    "FROM TableData\n",
    "WHERE Season = 'Fall'\n",
    "GROUP BY City, Country\n",
    "HAVING AVG(Temperature) > 20\n",
    "ORDER BY AVG(Temperature) ASC;"
   ]
  },
  {
   "cell_type": "markdown",
   "id": "fe64f238",
   "metadata": {},
   "source": [
    " The total annual rainfall for Cairo.\n"
   ]
  },
  {
   "cell_type": "code",
   "execution_count": null,
   "id": "03b26190",
   "metadata": {},
   "outputs": [],
   "source": [
    "SELECT SUM(Rainfall) AS TotalRainfall\n",
    "FROM TableData\n",
    "WHERE City = 'Cairo';"
   ]
  },
  {
   "cell_type": "markdown",
   "id": "dd1d3f3a",
   "metadata": {},
   "source": [
    " The total rainfall for each season."
   ]
  },
  {
   "cell_type": "code",
   "execution_count": null,
   "id": "4fb5a384",
   "metadata": {},
   "outputs": [],
   "source": [
    "SELECT Season, SUM(Rainfall) AS TotalRainfall\n",
    "FROM TableData\n",
    "GROUP BY Season;"
   ]
  },
  {
   "cell_type": "markdown",
   "id": "ee79376a",
   "metadata": {},
   "source": [
    "### Question 9"
   ]
  },
  {
   "cell_type": "code",
   "execution_count": 18,
   "id": "66590c7a",
   "metadata": {},
   "outputs": [
    {
     "name": "stdout",
     "output_type": "stream",
     "text": [
      "a) Uppercase Words: ['THE', 'QUICK', 'BROWN', 'FOX', 'JUMPS', 'OVER', 'THE', 'LAZY', 'DOG']\n",
      "b) Lowercase Words: ['the', 'quick', 'brown', 'fox', 'jumps', 'over', 'the', 'lazy', 'dog']\n",
      "c) Word Lengths: [3, 5, 5, 3, 5, 4, 3, 4, 3]\n",
      "d) Word Info: [['THE', 'the', 3], ['QUICK', 'quick', 5], ['BROWN', 'brown', 5], ['FOX', 'fox', 3], ['JUMPS', 'jumps', 5], ['OVER', 'over', 4], ['THE', 'the', 3], ['LAZY', 'lazy', 4], ['DOG', 'dog', 3]]\n",
      "e) Long Words: ['quick', 'brown', 'jumps', 'over', 'lazy']\n"
     ]
    }
   ],
   "source": [
    "# Define the list of words\n",
    "words = ['The', 'quick', 'brown', 'fox', 'jumps', 'over', 'the', 'lazy', 'dog']\n",
    "\n",
    "# a) List of words in uppercase\n",
    "uppercase_words = [word.upper() for word in words]\n",
    "\n",
    "# b) List of words in lowercase\n",
    "lowercase_words = [word.lower() for word in words]\n",
    "\n",
    "# c) List of lengths of words in words\n",
    "word_lengths = [len(word) for word in words]\n",
    "\n",
    "# d) List of lists containing the word in uppercase, lowercase, and length\n",
    "word_info = [[word.upper(), word.lower(), len(word)] for word in words]\n",
    "\n",
    "# e) List of words containing 4 or more characters\n",
    "long_words = [word for word in words if len(word) >= 4]\n",
    "\n",
    "# Print the generated lists\n",
    "print(\"a) Uppercase Words:\", uppercase_words)\n",
    "print(\"b) Lowercase Words:\", lowercase_words)\n",
    "print(\"c) Word Lengths:\", word_lengths)\n",
    "print(\"d) Word Info:\", word_info)\n",
    "print(\"e) Long Words:\", long_words)\n"
   ]
  }
 ],
 "metadata": {
  "kernelspec": {
   "display_name": "Python 3 (ipykernel)",
   "language": "python",
   "name": "python3"
  },
  "language_info": {
   "codemirror_mode": {
    "name": "ipython",
    "version": 3
   },
   "file_extension": ".py",
   "mimetype": "text/x-python",
   "name": "python",
   "nbconvert_exporter": "python",
   "pygments_lexer": "ipython3",
   "version": "3.11.4"
  }
 },
 "nbformat": 4,
 "nbformat_minor": 5
}
